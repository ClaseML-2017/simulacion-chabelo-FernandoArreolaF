{
 "cells": [
  {
   "cell_type": "code",
   "execution_count": 28,
   "metadata": {
    "collapsed": true
   },
   "outputs": [],
   "source": [
    "import random as ran\n",
    "import numpy as np\n",
    "from decimal import Decimal"
   ]
  },
  {
   "cell_type": "code",
   "execution_count": 4,
   "metadata": {},
   "outputs": [],
   "source": [
    "def chabelo(elegida, premio):\n",
    "    eleccion = [x for x in[1,2,3] if x != elegida and x != premio]\n",
    "    return(eleccion)"
   ]
  },
  {
   "cell_type": "code",
   "execution_count": 35,
   "metadata": {},
   "outputs": [
    {
     "name": "stdout",
     "output_type": "stream",
     "text": [
      "0.3339\n"
     ]
    }
   ],
   "source": [
    "#Si el concursante no cambia de eleccion.\n",
    "experimentos = 10000\n",
    "var = 0\n",
    "for i in range (experimentos):\n",
    "    puerta = ran.randint(1,3)\n",
    "    premio = ran.randint(1,3)\n",
    "    if puerta == premio:\n",
    "        var = var + 1\n",
    "    else:\n",
    "        var = var + 0\n",
    "#Resultado si no cambia de puerta\n",
    "res = var / float(experimentos)\n",
    "print(res)"
   ]
  },
  {
   "cell_type": "code",
   "execution_count": 36,
   "metadata": {},
   "outputs": [
    {
     "name": "stdout",
     "output_type": "stream",
     "text": [
      "0.67\n"
     ]
    }
   ],
   "source": [
    "#Si el concursante cambia de puerta:\n",
    "var = 0\n",
    "for i in range(experimentos):\n",
    "    eleccion = ran.randint(1,3)\n",
    "    premio = ran.randint(1,3)\n",
    "    puerta_abierta = chabelo(eleccion, premio)\n",
    "    seleccion = np.array(puerta_abierta[0])\n",
    "    cambio = [x for x in [1,2,3] if x != np.array(puerta_abierta[0]) and x!= eleccion]\n",
    "    eleccion_2 = np.array(cambio[0])\n",
    "    if eleccion == premio:\n",
    "        var = var + 0\n",
    "    else:\n",
    "        if eleccion_2 == premio:\n",
    "            var = var + 1\n",
    "        else:\n",
    "            var = var\n",
    "res_cambio = var / float(experimentos)\n",
    "print(res_cambio)"
   ]
  },
  {
   "cell_type": "code",
   "execution_count": null,
   "metadata": {
    "collapsed": true
   },
   "outputs": [],
   "source": []
  }
 ],
 "metadata": {
  "kernelspec": {
   "display_name": "Python 2",
   "language": "python",
   "name": "python2"
  },
  "language_info": {
   "codemirror_mode": {
    "name": "ipython",
    "version": 2
   },
   "file_extension": ".py",
   "mimetype": "text/x-python",
   "name": "python",
   "nbconvert_exporter": "python",
   "pygments_lexer": "ipython2",
   "version": "2.7.13"
  }
 },
 "nbformat": 4,
 "nbformat_minor": 2
}
